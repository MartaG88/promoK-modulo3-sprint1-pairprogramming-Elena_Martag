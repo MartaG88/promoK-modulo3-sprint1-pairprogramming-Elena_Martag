{
 "cells": [
  {
   "cell_type": "markdown",
   "metadata": {},
   "source": [
    "**Pair Group By y Apply**\n",
    "\n",
    "Trabajamos con world_data_full.csv"
   ]
  },
  {
   "cell_type": "markdown",
   "metadata": {},
   "source": [
    "**Ejercicios apply**\n",
    "1. Las columnas land_area , armed_forces_size , co2-emissions , gdp ,\n",
    "population , urban_population , latitude , longitude , density , cpi son\n",
    "de tipo object pero en realidad deberían ser numéricas. Crea una función que\n",
    "nos permita cambiar el tipo de dato de estas columnas al que le corresponde."
   ]
  },
  {
   "cell_type": "markdown",
   "metadata": {},
   "source": [
    "2. Crea una función para añadir una nueva columna llamada 'Continent' al\n",
    "DataFrame para indicar a qué continente pertenece cada país."
   ]
  },
  {
   "cell_type": "markdown",
   "metadata": {},
   "source": [
    "3. Guarda el DataFrame después de los cambios creados después de los dos\n",
    "ejercicios anteriores para usarlo posteriormente."
   ]
  },
  {
   "cell_type": "markdown",
   "metadata": {},
   "source": [
    "**Ejercicios groupby**\n",
    "\n",
    "1. ¿Cuál es la densidad de población promedio por continente?"
   ]
  },
  {
   "cell_type": "markdown",
   "metadata": {},
   "source": [
    "2. ¿Cuál es la esperanza de vida promedio por idioma oficial? Agrupa los países\n",
    "por idioma oficial y calcula la esperanza de vida promedio."
   ]
  },
  {
   "cell_type": "markdown",
   "metadata": {},
   "source": [
    "3. ¿Cuál es la tasa de mortalidad infantil promedio por moneda?"
   ]
  },
  {
   "cell_type": "markdown",
   "metadata": {},
   "source": [
    "4. ¿Cuál es el salario mínimo por continente?"
   ]
  },
  {
   "cell_type": "markdown",
   "metadata": {},
   "source": [
    "5. ¿Cuál es la tasa de impuestos total máxima por densidad de población por\n",
    "continente? Para solucionar este ejercicio puedes:\n",
    "• Primero, necesitas calcular la tasa de impuestos total para cada continente.\n",
    "La tasa de impuestos total se encuentra en la columna \"total_tax_rate\".\n",
    "• Luego, calcula la densidad de población para cada continente. La densidad\n",
    "de población se encuentra en la columna \"density\".\n",
    "• Ahora, divide la tasa de impuestos total entre la densidad de población paraobtener la tasa de impuestos total por persona por kilómetro cuadrado.\n",
    "• Encuentra el país que tiene el valor más alto en esta nueva columnacalculada."
   ]
  },
  {
   "cell_type": "markdown",
   "metadata": {},
   "source": [
    "6. ¿Cuál es el porcentaje de población urbana promedio por continente?"
   ]
  },
  {
   "cell_type": "markdown",
   "metadata": {},
   "source": [
    "7. ¿Cuál es la diferencia entre el PIB promedio y el gasto en salud de bolsillopromedio por idioma oficial? Para contestar esta pregunta dabes seguir lossiguientes pasos:\n",
    "• Agrupa el DataFrame por idioma oficial y calcula la media del Gasto deBolsillo en salud (\n",
    "out_of_pocket_health_expenditure\n",
    ") y del GPD.\n",
    "• Calcula la diferencia entre el PIB promedio y el gasto en salud de bolsillopromedio"
   ]
  },
  {
   "cell_type": "markdown",
   "metadata": {},
   "source": [
    "8. ¿Cuál es la tasa de maternidad promedio por tasa de impuestos total? Pararesolver el ejercicio deberás:\n",
    "• Primero, calcula la tasa de maternidad promedio para cada continente.Puedes usar la columna \"maternal_mortality_ratio\" que representa la tasa demortalidad materna.\n",
    "• Calcula la tasa de impuestos total promedio para cada continente. Puedesusar la columna \"total_tax_rate\" que representa la tasa de impuestos totalen cada continente.\n",
    "• Luego, divide la tasa de maternidad promedio por la tasa de impuestos totalpromedio para obtener la relación entre ambas tasas.\n",
    "• Encuentra el país con la tasa de maternidad más alta por punto porcentualde tasa de impuestos total."
   ]
  },
  {
   "cell_type": "markdown",
   "metadata": {},
   "source": [
    "9. Ejercicios bonus groupby:\n",
    "• ¿Cuál es la tasa de natalidad máxima por área forestal por continente?Encuentra el país con la tasa de natalidad más alta por cada puntoporcentual de área forestal.\n",
    "• ¿Cuál es la diferencia entre la tasa de impuestos total y la tasa dedesempleo promedio por continente?"
   ]
  }
 ],
 "metadata": {
  "kernelspec": {
   "display_name": "Python 3",
   "language": "python",
   "name": "python3"
  },
  "language_info": {
   "name": "python",
   "version": "3.12.4"
  }
 },
 "nbformat": 4,
 "nbformat_minor": 2
}
