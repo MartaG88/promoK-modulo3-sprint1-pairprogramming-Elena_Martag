{
 "cells": [
  {
   "cell_type": "markdown",
   "metadata": {},
   "source": [
    "**Ejercicios Unión de Datos**\n",
    "\n",
    "Para realizar estos ejercicios deberéis usar el conjunto de datos de\n",
    "world-data-2023-part1.csv y el de world-data-2023-part2.csv ."
   ]
  },
  {
   "cell_type": "markdown",
   "metadata": {},
   "source": [
    "**Ejercicios de Limpieza**\n",
    "1.Después de la unión de datos, tenemos dos columnas de \"country\". Elimina unade ellas."
   ]
  },
  {
   "cell_type": "markdown",
   "metadata": {},
   "source": [
    "2.Los nombres de las columnas no son homogeneos. Cambia los nombres de lascolumnas de tal forma que:\n",
    "•No tengan espacios.\n",
    "•Estén en minúscula.\n",
    "•No tengan paréntesis, es decir, quitar \"(%)\", \"(Km2)\".\n",
    "•Algunas columnas tiene \"\\n\". Eliminalos de los nombres de las columnas.\n",
    "•Algunas columnas tienen \":\". Eliminalos de los nombres de las columnas."
   ]
  },
  {
   "cell_type": "markdown",
   "metadata": {},
   "source": [
    "3.La columnascoordinatestiene la latitud y la longitud en una sola columna.Crea dos columnas nuevas, una con la longitud y otra con la latitud. Una vezhecho, elimina la columna de\n",
    "coordinates"
   ]
  },
  {
   "cell_type": "markdown",
   "metadata": {},
   "source": [
    "4.Las columnas unemployment_rate,total_tax_rate,tax_revenue,population_labor_force_participation,out_of_pocket_health_expenditure,\n",
    "gross_tertiary_education_enrollment,gross_primary_education_enrollment,forested_area,\n",
    "cpi_change,agricultural_land, tienen \"%\". Elimina los \"%\" de los valores de las columnas."
   ]
  },
  {
   "cell_type": "markdown",
   "metadata": {},
   "source": [
    "5.Haz lo mismo para las columnas de gasoline_price,gdp,minimum_wage,pero eliminando \"$\"."
   ]
  },
  {
   "cell_type": "markdown",
   "metadata": {},
   "source": [
    "6.Guarda el DataFrame para usarlo posteriormente."
   ]
  }
 ],
 "metadata": {
  "language_info": {
   "name": "python"
  }
 },
 "nbformat": 4,
 "nbformat_minor": 2
}
