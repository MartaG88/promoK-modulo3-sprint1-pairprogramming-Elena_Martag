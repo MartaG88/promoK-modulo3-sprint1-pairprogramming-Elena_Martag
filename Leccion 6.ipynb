{
 "cells": [
  {
   "cell_type": "code",
   "execution_count": 1,
   "metadata": {},
   "outputs": [],
   "source": [
    "# importamos las librerías que necesitamos\n",
    "\n",
    "# Tratamiento de datos\n",
    "# -----------------------------------------------------------------------\n",
    "import pandas as pd\n",
    "import numpy as np\n",
    "\n",
    "# Imputación de nulos usando métodos avanzados estadísticos\n",
    "# -----------------------------------------------------------------------\n",
    "from sklearn.impute import SimpleImputer\n",
    "from sklearn.experimental import enable_iterative_imputer\n",
    "from sklearn.impute import IterativeImputer\n",
    "from sklearn.impute import KNNImputer\n",
    "\n",
    "# Librerías de visualización\n",
    "# -----------------------------------------------------------------------\n",
    "import seaborn as sns\n",
    "import matplotlib.pyplot as plt\n",
    "# Configuración\n",
    "# -----------------------------------------------------------------------\n",
    "pd.set_option('display.max_columns', None) # para poder visualizar todas las columnas de los DataFrames"
   ]
  },
  {
   "cell_type": "code",
   "execution_count": 2,
   "metadata": {},
   "outputs": [
    {
     "data": {
      "text/html": [
       "<div>\n",
       "<style scoped>\n",
       "    .dataframe tbody tr th:only-of-type {\n",
       "        vertical-align: middle;\n",
       "    }\n",
       "\n",
       "    .dataframe tbody tr th {\n",
       "        vertical-align: top;\n",
       "    }\n",
       "\n",
       "    .dataframe thead th {\n",
       "        text-align: right;\n",
       "    }\n",
       "</style>\n",
       "<table border=\"1\" class=\"dataframe\">\n",
       "  <thead>\n",
       "    <tr style=\"text-align: right;\">\n",
       "      <th></th>\n",
       "      <th>country</th>\n",
       "      <th>density</th>\n",
       "      <th>abbreviation</th>\n",
       "      <th>agricultural_land</th>\n",
       "      <th>land_area</th>\n",
       "      <th>armed_forces_size</th>\n",
       "      <th>birth_rate</th>\n",
       "      <th>calling_code</th>\n",
       "      <th>capital/major_city</th>\n",
       "      <th>co2-emissions</th>\n",
       "      <th>cpi</th>\n",
       "      <th>cpi_change</th>\n",
       "      <th>currency-code</th>\n",
       "      <th>fertility_rate</th>\n",
       "      <th>forested_area</th>\n",
       "      <th>gasoline_price</th>\n",
       "      <th>gdp</th>\n",
       "      <th>gross_primary_education_enrollment</th>\n",
       "      <th>gross_tertiary_education_enrollment</th>\n",
       "      <th>infant_mortality</th>\n",
       "      <th>largest_city</th>\n",
       "      <th>life_expectancy</th>\n",
       "      <th>maternal_mortality_ratio</th>\n",
       "      <th>minimum_wage</th>\n",
       "      <th>official_language</th>\n",
       "      <th>out_of_pocket_health_expenditure</th>\n",
       "      <th>physicians_per_thousand</th>\n",
       "      <th>population</th>\n",
       "      <th>population_labor_force_participation</th>\n",
       "      <th>tax_revenue</th>\n",
       "      <th>total_tax_rate</th>\n",
       "      <th>unemployment_rate</th>\n",
       "      <th>urban_population</th>\n",
       "      <th>latitude</th>\n",
       "      <th>longitude</th>\n",
       "      <th>continent</th>\n",
       "    </tr>\n",
       "  </thead>\n",
       "  <tbody>\n",
       "    <tr>\n",
       "      <th>0</th>\n",
       "      <td>Afghanistan</td>\n",
       "      <td>60.0</td>\n",
       "      <td>AF</td>\n",
       "      <td>58.1</td>\n",
       "      <td>652.23</td>\n",
       "      <td>323.0</td>\n",
       "      <td>32.49</td>\n",
       "      <td>93.0</td>\n",
       "      <td>Kabul</td>\n",
       "      <td>8.672</td>\n",
       "      <td>149.9</td>\n",
       "      <td>2.3</td>\n",
       "      <td>AFN</td>\n",
       "      <td>4.47</td>\n",
       "      <td>2.1</td>\n",
       "      <td>0.7</td>\n",
       "      <td>1.910135e+10</td>\n",
       "      <td>104.0</td>\n",
       "      <td>9.7</td>\n",
       "      <td>47.9</td>\n",
       "      <td>Kabul</td>\n",
       "      <td>64.5</td>\n",
       "      <td>638.0</td>\n",
       "      <td>0.43</td>\n",
       "      <td>Pashto</td>\n",
       "      <td>78.4</td>\n",
       "      <td>0.28</td>\n",
       "      <td>NaN</td>\n",
       "      <td>48.9</td>\n",
       "      <td>9.3</td>\n",
       "      <td>71.4</td>\n",
       "      <td>11.12</td>\n",
       "      <td>NaN</td>\n",
       "      <td>33.93911</td>\n",
       "      <td>67.709953</td>\n",
       "      <td>Asia</td>\n",
       "    </tr>\n",
       "  </tbody>\n",
       "</table>\n",
       "</div>"
      ],
      "text/plain": [
       "       country  density abbreviation  agricultural_land  land_area  \\\n",
       "0  Afghanistan     60.0           AF               58.1     652.23   \n",
       "\n",
       "   armed_forces_size  birth_rate  calling_code capital/major_city  \\\n",
       "0              323.0       32.49          93.0              Kabul   \n",
       "\n",
       "   co2-emissions    cpi  cpi_change currency-code  fertility_rate  \\\n",
       "0          8.672  149.9         2.3           AFN            4.47   \n",
       "\n",
       "   forested_area  gasoline_price           gdp  \\\n",
       "0            2.1             0.7  1.910135e+10   \n",
       "\n",
       "   gross_primary_education_enrollment  gross_tertiary_education_enrollment  \\\n",
       "0                               104.0                                  9.7   \n",
       "\n",
       "   infant_mortality largest_city  life_expectancy  maternal_mortality_ratio  \\\n",
       "0              47.9        Kabul             64.5                     638.0   \n",
       "\n",
       "   minimum_wage official_language  out_of_pocket_health_expenditure  \\\n",
       "0          0.43            Pashto                              78.4   \n",
       "\n",
       "   physicians_per_thousand  population  population_labor_force_participation  \\\n",
       "0                     0.28         NaN                                  48.9   \n",
       "\n",
       "   tax_revenue  total_tax_rate  unemployment_rate  urban_population  latitude  \\\n",
       "0          9.3            71.4              11.12               NaN  33.93911   \n",
       "\n",
       "   longitude continent  \n",
       "0  67.709953      Asia  "
      ]
     },
     "execution_count": 2,
     "metadata": {},
     "output_type": "execute_result"
    }
   ],
   "source": [
    "df = pd.read_csv(\"datos/world_data_full_apply.csv\", index_col = 0)\n",
    "df.head(1)"
   ]
  },
  {
   "cell_type": "markdown",
   "metadata": {},
   "source": [
    "**Pair Nulos**\n",
    "\n",
    "Trabajamos con world_data_full_apply.csv\n",
    "\n",
    "El objetivo del ejercicio es identificar las columnas que contienen valores nulos y\n",
    "aplicar un proceso de imputación para manejarlos de manera adecuada.\n",
    "Instrucciones:\n",
    "1. Identificación de Valores Nulos: Identifica todas las columnas que contengan\n",
    "valores nulos en el DataFrame."
   ]
  },
  {
   "cell_type": "code",
   "execution_count": 3,
   "metadata": {},
   "outputs": [
    {
     "data": {
      "text/plain": [
       "country                                  0.000000\n",
       "density                                  0.000000\n",
       "abbreviation                             3.589744\n",
       "agricultural_land                        3.589744\n",
       "land_area                               15.384615\n",
       "armed_forces_size                       14.871795\n",
       "birth_rate                               3.076923\n",
       "calling_code                             0.512821\n",
       "capital/major_city                       1.538462\n",
       "co2-emissions                            6.153846\n",
       "cpi                                     10.256410\n",
       "cpi_change                               8.205128\n",
       "currency-code                            7.692308\n",
       "fertility_rate                           3.589744\n",
       "forested_area                            3.589744\n",
       "gasoline_price                          10.256410\n",
       "gdp                                      1.025641\n",
       "gross_primary_education_enrollment       3.589744\n",
       "gross_tertiary_education_enrollment      6.153846\n",
       "infant_mortality                         3.076923\n",
       "largest_city                             3.076923\n",
       "life_expectancy                          4.102564\n",
       "maternal_mortality_ratio                 7.179487\n",
       "minimum_wage                            23.076923\n",
       "official_language                        2.564103\n",
       "out_of_pocket_health_expenditure         3.589744\n",
       "physicians_per_thousand                  3.589744\n",
       "population                              80.000000\n",
       "population_labor_force_participation     9.743590\n",
       "tax_revenue                             13.333333\n",
       "total_tax_rate                           6.153846\n",
       "unemployment_rate                        9.743590\n",
       "urban_population                        76.923077\n",
       "latitude                                 0.512821\n",
       "longitude                                0.512821\n",
       "continent                                0.512821\n",
       "dtype: float64"
      ]
     },
     "execution_count": 3,
     "metadata": {},
     "output_type": "execute_result"
    }
   ],
   "source": [
    "porc_nulos = (df.isnull().sum()/df.shape[0])*100\n",
    "# Dividimos el total de valores nulos entre el numero total de datos para cada columna, para sacar el porcentaje\n",
    "porc_nulos"
   ]
  },
  {
   "cell_type": "code",
   "execution_count": 4,
   "metadata": {},
   "outputs": [
    {
     "data": {
      "text/html": [
       "<div>\n",
       "<style scoped>\n",
       "    .dataframe tbody tr th:only-of-type {\n",
       "        vertical-align: middle;\n",
       "    }\n",
       "\n",
       "    .dataframe tbody tr th {\n",
       "        vertical-align: top;\n",
       "    }\n",
       "\n",
       "    .dataframe thead th {\n",
       "        text-align: right;\n",
       "    }\n",
       "</style>\n",
       "<table border=\"1\" class=\"dataframe\">\n",
       "  <thead>\n",
       "    <tr style=\"text-align: right;\">\n",
       "      <th></th>\n",
       "      <th>%_nulos</th>\n",
       "    </tr>\n",
       "  </thead>\n",
       "  <tbody>\n",
       "    <tr>\n",
       "      <th>abbreviation</th>\n",
       "      <td>3.589744</td>\n",
       "    </tr>\n",
       "    <tr>\n",
       "      <th>agricultural_land</th>\n",
       "      <td>3.589744</td>\n",
       "    </tr>\n",
       "    <tr>\n",
       "      <th>land_area</th>\n",
       "      <td>15.384615</td>\n",
       "    </tr>\n",
       "    <tr>\n",
       "      <th>armed_forces_size</th>\n",
       "      <td>14.871795</td>\n",
       "    </tr>\n",
       "    <tr>\n",
       "      <th>birth_rate</th>\n",
       "      <td>3.076923</td>\n",
       "    </tr>\n",
       "    <tr>\n",
       "      <th>calling_code</th>\n",
       "      <td>0.512821</td>\n",
       "    </tr>\n",
       "    <tr>\n",
       "      <th>capital/major_city</th>\n",
       "      <td>1.538462</td>\n",
       "    </tr>\n",
       "    <tr>\n",
       "      <th>co2-emissions</th>\n",
       "      <td>6.153846</td>\n",
       "    </tr>\n",
       "    <tr>\n",
       "      <th>cpi</th>\n",
       "      <td>10.256410</td>\n",
       "    </tr>\n",
       "    <tr>\n",
       "      <th>cpi_change</th>\n",
       "      <td>8.205128</td>\n",
       "    </tr>\n",
       "    <tr>\n",
       "      <th>currency-code</th>\n",
       "      <td>7.692308</td>\n",
       "    </tr>\n",
       "    <tr>\n",
       "      <th>fertility_rate</th>\n",
       "      <td>3.589744</td>\n",
       "    </tr>\n",
       "    <tr>\n",
       "      <th>forested_area</th>\n",
       "      <td>3.589744</td>\n",
       "    </tr>\n",
       "    <tr>\n",
       "      <th>gasoline_price</th>\n",
       "      <td>10.256410</td>\n",
       "    </tr>\n",
       "    <tr>\n",
       "      <th>gdp</th>\n",
       "      <td>1.025641</td>\n",
       "    </tr>\n",
       "    <tr>\n",
       "      <th>gross_primary_education_enrollment</th>\n",
       "      <td>3.589744</td>\n",
       "    </tr>\n",
       "    <tr>\n",
       "      <th>gross_tertiary_education_enrollment</th>\n",
       "      <td>6.153846</td>\n",
       "    </tr>\n",
       "    <tr>\n",
       "      <th>infant_mortality</th>\n",
       "      <td>3.076923</td>\n",
       "    </tr>\n",
       "    <tr>\n",
       "      <th>largest_city</th>\n",
       "      <td>3.076923</td>\n",
       "    </tr>\n",
       "    <tr>\n",
       "      <th>life_expectancy</th>\n",
       "      <td>4.102564</td>\n",
       "    </tr>\n",
       "    <tr>\n",
       "      <th>maternal_mortality_ratio</th>\n",
       "      <td>7.179487</td>\n",
       "    </tr>\n",
       "    <tr>\n",
       "      <th>minimum_wage</th>\n",
       "      <td>23.076923</td>\n",
       "    </tr>\n",
       "    <tr>\n",
       "      <th>official_language</th>\n",
       "      <td>2.564103</td>\n",
       "    </tr>\n",
       "    <tr>\n",
       "      <th>out_of_pocket_health_expenditure</th>\n",
       "      <td>3.589744</td>\n",
       "    </tr>\n",
       "    <tr>\n",
       "      <th>physicians_per_thousand</th>\n",
       "      <td>3.589744</td>\n",
       "    </tr>\n",
       "    <tr>\n",
       "      <th>population</th>\n",
       "      <td>80.000000</td>\n",
       "    </tr>\n",
       "    <tr>\n",
       "      <th>population_labor_force_participation</th>\n",
       "      <td>9.743590</td>\n",
       "    </tr>\n",
       "    <tr>\n",
       "      <th>tax_revenue</th>\n",
       "      <td>13.333333</td>\n",
       "    </tr>\n",
       "    <tr>\n",
       "      <th>total_tax_rate</th>\n",
       "      <td>6.153846</td>\n",
       "    </tr>\n",
       "    <tr>\n",
       "      <th>unemployment_rate</th>\n",
       "      <td>9.743590</td>\n",
       "    </tr>\n",
       "    <tr>\n",
       "      <th>urban_population</th>\n",
       "      <td>76.923077</td>\n",
       "    </tr>\n",
       "    <tr>\n",
       "      <th>latitude</th>\n",
       "      <td>0.512821</td>\n",
       "    </tr>\n",
       "    <tr>\n",
       "      <th>longitude</th>\n",
       "      <td>0.512821</td>\n",
       "    </tr>\n",
       "    <tr>\n",
       "      <th>continent</th>\n",
       "      <td>0.512821</td>\n",
       "    </tr>\n",
       "  </tbody>\n",
       "</table>\n",
       "</div>"
      ],
      "text/plain": [
       "                                        %_nulos\n",
       "abbreviation                           3.589744\n",
       "agricultural_land                      3.589744\n",
       "land_area                             15.384615\n",
       "armed_forces_size                     14.871795\n",
       "birth_rate                             3.076923\n",
       "calling_code                           0.512821\n",
       "capital/major_city                     1.538462\n",
       "co2-emissions                          6.153846\n",
       "cpi                                   10.256410\n",
       "cpi_change                             8.205128\n",
       "currency-code                          7.692308\n",
       "fertility_rate                         3.589744\n",
       "forested_area                          3.589744\n",
       "gasoline_price                        10.256410\n",
       "gdp                                    1.025641\n",
       "gross_primary_education_enrollment     3.589744\n",
       "gross_tertiary_education_enrollment    6.153846\n",
       "infant_mortality                       3.076923\n",
       "largest_city                           3.076923\n",
       "life_expectancy                        4.102564\n",
       "maternal_mortality_ratio               7.179487\n",
       "minimum_wage                          23.076923\n",
       "official_language                      2.564103\n",
       "out_of_pocket_health_expenditure       3.589744\n",
       "physicians_per_thousand                3.589744\n",
       "population                            80.000000\n",
       "population_labor_force_participation   9.743590\n",
       "tax_revenue                           13.333333\n",
       "total_tax_rate                         6.153846\n",
       "unemployment_rate                      9.743590\n",
       "urban_population                      76.923077\n",
       "latitude                               0.512821\n",
       "longitude                              0.512821\n",
       "continent                              0.512821"
      ]
     },
     "execution_count": 4,
     "metadata": {},
     "output_type": "execute_result"
    }
   ],
   "source": [
    "# lo convertimos en DataFrame, creando una nueva columna % nulos\n",
    "df_nulos = pd.DataFrame(porc_nulos, columns = [\"%_nulos\"])\n",
    "# y lo filtramos para que solo nos aparezcan los valores que tienen nulos\n",
    "df_nulos[df_nulos['%_nulos'] > 0]"
   ]
  },
  {
   "cell_type": "code",
   "execution_count": 10,
   "metadata": {},
   "outputs": [
    {
     "data": {
      "text/plain": [
       "country                                   0\n",
       "density                                   0\n",
       "abbreviation                              7\n",
       "agricultural_land                         7\n",
       "land_area                                30\n",
       "armed_forces_size                        29\n",
       "birth_rate                                6\n",
       "calling_code                              1\n",
       "capital/major_city                        3\n",
       "co2-emissions                            12\n",
       "cpi                                      20\n",
       "cpi_change                               16\n",
       "currency-code                            15\n",
       "fertility_rate                            7\n",
       "forested_area                             7\n",
       "gasoline_price                           20\n",
       "gdp                                       2\n",
       "gross_primary_education_enrollment        7\n",
       "gross_tertiary_education_enrollment      12\n",
       "infant_mortality                          6\n",
       "largest_city                              6\n",
       "life_expectancy                           8\n",
       "maternal_mortality_ratio                 14\n",
       "minimum_wage                             45\n",
       "official_language                         5\n",
       "out_of_pocket_health_expenditure          7\n",
       "physicians_per_thousand                   7\n",
       "population                              156\n",
       "population_labor_force_participation     19\n",
       "tax_revenue                              26\n",
       "total_tax_rate                           12\n",
       "unemployment_rate                        19\n",
       "urban_population                        150\n",
       "latitude                                  1\n",
       "longitude                                 1\n",
       "continent                                 1\n",
       "dtype: int64"
      ]
     },
     "execution_count": 10,
     "metadata": {},
     "output_type": "execute_result"
    }
   ],
   "source": [
    "df.isnull().sum()"
   ]
  },
  {
   "cell_type": "code",
   "execution_count": null,
   "metadata": {},
   "outputs": [
    {
     "name": "stdout",
     "output_type": "stream",
     "text": [
      "Las columnas categóricas que tienen nulos son : \n",
      " \n",
      "Index(['abbreviation', 'capital/major_city', 'currency-code', 'largest_city',\n",
      "       'official_language', 'continent'],\n",
      "      dtype='object')\n"
     ]
    }
   ],
   "source": [
    "# Estudiamos los valores categóricos\n",
    "# Sacamos una lista de las categóricas que tienen nulos\n",
    "nulos_esta_cat = df[df.columns[df.isnull().any()]].select_dtypes(include = \"O\").columns\n",
    "print(\"Las columnas categóricas que tienen nulos son : \\n \")\n",
    "print(nulos_esta_cat)"
   ]
  },
  {
   "cell_type": "code",
   "execution_count": 16,
   "metadata": {},
   "outputs": [
    {
     "data": {
      "text/plain": [
       "abbreviation\n",
       "AF    1\n",
       "PY    1\n",
       "NE    1\n",
       "NG    1\n",
       "KP    1\n",
       "     ..\n",
       "GR    1\n",
       "GD    1\n",
       "GT    1\n",
       "GN    1\n",
       "ZW    1\n",
       "Name: count, Length: 188, dtype: int64"
      ]
     },
     "execution_count": 16,
     "metadata": {},
     "output_type": "execute_result"
    }
   ],
   "source": [
    "df['abbreviation'].value_counts()"
   ]
  },
  {
   "cell_type": "code",
   "execution_count": 18,
   "metadata": {},
   "outputs": [
    {
     "data": {
      "text/plain": [
       "195"
      ]
     },
     "execution_count": 18,
     "metadata": {},
     "output_type": "execute_result"
    }
   ],
   "source": [
    "df['abbreviation'].shape[0]"
   ]
  },
  {
   "cell_type": "code",
   "execution_count": 14,
   "metadata": {},
   "outputs": [
    {
     "name": "stdout",
     "output_type": "stream",
     "text": [
      "La distribución de las categorías para la columna 'abbreviation'\n"
     ]
    },
    {
     "data": {
      "text/plain": [
       "abbreviation\n",
       "AF    0.512821\n",
       "PY    0.512821\n",
       "NE    0.512821\n",
       "NG    0.512821\n",
       "KP    0.512821\n",
       "        ...   \n",
       "GR    0.512821\n",
       "GD    0.512821\n",
       "GT    0.512821\n",
       "GN    0.512821\n",
       "ZW    0.512821\n",
       "Name: count, Length: 188, dtype: float64"
      ]
     },
     "metadata": {},
     "output_type": "display_data"
    },
    {
     "name": "stdout",
     "output_type": "stream",
     "text": [
      "........................\n",
      "La distribución de las categorías para la columna 'capital/major_city'\n"
     ]
    },
    {
     "data": {
      "text/plain": [
       "capital/major_city\n",
       "Kabul                    0.512821\n",
       "Tirana                   0.512821\n",
       "Wellington               0.512821\n",
       "Managua                  0.512821\n",
       "Niamey                   0.512821\n",
       "                           ...   \n",
       "Athens                   0.512821\n",
       "St. George's, Grenada    0.512821\n",
       "Guatemala City           0.512821\n",
       "Conakry                  0.512821\n",
       "Harare                   0.512821\n",
       "Name: count, Length: 192, dtype: float64"
      ]
     },
     "metadata": {},
     "output_type": "display_data"
    },
    {
     "name": "stdout",
     "output_type": "stream",
     "text": [
      "........................\n",
      "La distribución de las categorías para la columna 'currency-code'\n"
     ]
    },
    {
     "data": {
      "text/plain": [
       "currency-code\n",
       "EUR    11.794872\n",
       "XOF     4.102564\n",
       "XCD     3.076923\n",
       "USD     3.076923\n",
       "XAF     2.564103\n",
       "         ...    \n",
       "GMD     0.512821\n",
       "FJD     0.512821\n",
       "ETB     0.512821\n",
       "ERN     0.512821\n",
       "ZMW     0.512821\n",
       "Name: count, Length: 133, dtype: float64"
      ]
     },
     "metadata": {},
     "output_type": "display_data"
    },
    {
     "name": "stdout",
     "output_type": "stream",
     "text": [
      "........................\n",
      "La distribución de las categorías para la columna 'largest_city'\n"
     ]
    },
    {
     "data": {
      "text/plain": [
       "largest_city\n",
       "S����                    1.025641\n",
       "Panama City              0.512821\n",
       "Managua                  0.512821\n",
       "Niamey                   0.512821\n",
       "Lagos                    0.512821\n",
       "                           ...   \n",
       "Macedonia                0.512821\n",
       "St. George's, Grenada    0.512821\n",
       "Guatemala City           0.512821\n",
       "Kankan                   0.512821\n",
       "Harare                   0.512821\n",
       "Name: count, Length: 188, dtype: float64"
      ]
     },
     "metadata": {},
     "output_type": "display_data"
    },
    {
     "name": "stdout",
     "output_type": "stream",
     "text": [
      "........................\n",
      "La distribución de las categorías para la columna 'official_language'\n"
     ]
    },
    {
     "data": {
      "text/plain": [
       "official_language\n",
       "English             15.897436\n",
       "French              12.820513\n",
       "Spanish              9.743590\n",
       "Arabic               9.230769\n",
       "Portuguese           3.589744\n",
       "                      ...    \n",
       "Albanian             0.512821\n",
       "Jamaican English     0.512821\n",
       "Lao                  0.512821\n",
       "Latvian              0.512821\n",
       "Shona                0.512821\n",
       "Name: count, Length: 76, dtype: float64"
      ]
     },
     "metadata": {},
     "output_type": "display_data"
    },
    {
     "name": "stdout",
     "output_type": "stream",
     "text": [
      "........................\n",
      "La distribución de las categorías para la columna 'continent'\n"
     ]
    },
    {
     "data": {
      "text/plain": [
       "continent\n",
       "Africa             27.179487\n",
       "Europe             24.102564\n",
       "Asia               23.076923\n",
       "Central America    10.256410\n",
       "Oceania             7.179487\n",
       "South America       6.666667\n",
       "North America       1.025641\n",
       "Name: count, dtype: float64"
      ]
     },
     "metadata": {},
     "output_type": "display_data"
    },
    {
     "name": "stdout",
     "output_type": "stream",
     "text": [
      "........................\n"
     ]
    }
   ],
   "source": [
    "# sacamos el 'value_counts()'(contamos los valores únicos y los comparamos al total de valores) de cada una de las columnas categóricas que tienen nulos para saber como es la distribución de sus categorías\n",
    "for col in nulos_esta_cat:\n",
    "    print(f\"La distribución de las categorías para la columna '{col}'\")\n",
    "    display(df[col].value_counts() / df.shape[0]*100)  # display es una función utilizada para mostrar objetos de manera más legible en Jupyter Notebooks o entornos similares. \n",
    "    print(\"........................\")"
   ]
  },
  {
   "cell_type": "code",
   "execution_count": null,
   "metadata": {},
   "outputs": [],
   "source": [
    "# 'abbreviation'\n",
    "# Tiene un \t3.589744 % de nulos\n",
    "# Los datos que mas se repiten son: (%)\n",
    "'''     AF    0.512821\n",
    "        PY    0.512821\n",
    "        NE    0.512821\n",
    "        NG    0.512821\n",
    "        KP    0.512821'''\n",
    "#*****************know***********************"
   ]
  },
  {
   "cell_type": "code",
   "execution_count": null,
   "metadata": {},
   "outputs": [],
   "source": [
    "#'capital/major_city'\n",
    "# Tiene un \t1.538462 % de nulos\n",
    "# Los datos que mas se repiten son: (%)\n",
    "'''     Kabul                    0.512821\n",
    "        Tirana                   0.512821\n",
    "        Wellington               0.512821\n",
    "        Managua                  0.512821\n",
    "        Niamey                   0.512821'''\n",
    "#*****************know***********************"
   ]
  },
  {
   "cell_type": "code",
   "execution_count": null,
   "metadata": {},
   "outputs": [],
   "source": [
    "#'currency-code'\n",
    "# Tiene un \t7.692308 % de nulos\n",
    "# Los datos que mas se repiten son: (%)\n",
    "'''     EUR    11.794872\n",
    "        XOF     4.102564\n",
    "        XCD     3.076923\n",
    "        USD     3.076923\n",
    "        XAF     2.564103'''\n",
    "#*****************know***********************"
   ]
  },
  {
   "cell_type": "code",
   "execution_count": null,
   "metadata": {},
   "outputs": [],
   "source": [
    "#'largest_city'\n",
    "# Tiene un \t3.076923 % de nulos\n",
    "# Los datos que mas se repiten son: (%)\n",
    "'''     S����                 1.025641\n",
    "        Panama City              0.512821\n",
    "        Managua                  0.512821   \n",
    "        Niamey                   0.512821\n",
    "        Lagos                    0.512821'''\n",
    "#*****************know***********************"
   ]
  },
  {
   "cell_type": "code",
   "execution_count": null,
   "metadata": {},
   "outputs": [],
   "source": [
    "#'official_language'\n",
    "# Tiene un \t2.564103 % de nulos\n",
    "# Los datos que mas se repiten son: (%)\n",
    "'''     English             15.897436\n",
    "        French              12.820513\n",
    "        Spanish              9.743590\n",
    "        Arabic               9.230769\n",
    "        Portuguese           3.5897441\n",
    "        Lagos                0.512821'''\n",
    "#*****************know***********************"
   ]
  },
  {
   "cell_type": "code",
   "execution_count": null,
   "metadata": {},
   "outputs": [],
   "source": [
    "#'continent'\n",
    "# Tiene un \t0.512821 % de nulos\n",
    "# Los datos que mas se repiten son: (%)\n",
    "'''     Africa             27.179487\n",
    "        Europe             24.102564\n",
    "        Asia               23.076923\n",
    "        Central America    10.256410\n",
    "        Oceania             7.179487\n",
    "        South America       6.666667'''\n",
    "#*****************know***********************"
   ]
  },
  {
   "cell_type": "markdown",
   "metadata": {},
   "source": [
    "2. Selección de Método de Imputación: Discute en tu compañera cuál sería la\n",
    "mejor estrategia para manejar los valores nulos en cada una de las columnas\n",
    "identificadas en el paso anterior."
   ]
  },
  {
   "cell_type": "markdown",
   "metadata": {},
   "source": [
    "3. Imputación de Valores Nulos: Implementa el método de imputación\n",
    "seleccionado en el paso 2 para llenar los valores nulos en las columnas."
   ]
  },
  {
   "cell_type": "markdown",
   "metadata": {},
   "source": [
    "4. Informe: Añade al final de un jupyter una explicación breve que describa las\n",
    "columnas que tenían valores nulos, cómo decidiste imputarlos y cualquier\n",
    "observación adicional que consideres importante sobre el proceso de limpieza\n",
    "de datos."
   ]
  },
  {
   "cell_type": "markdown",
   "metadata": {},
   "source": [
    "Nota: Puedes utilizar cualquier método o estrategia de imputación que consideres\n",
    "adecuado para los datos y discutir las ventajas y desventajas de tu elección en el\n",
    "informe."
   ]
  }
 ],
 "metadata": {
  "kernelspec": {
   "display_name": "Python 3",
   "language": "python",
   "name": "python3"
  },
  "language_info": {
   "codemirror_mode": {
    "name": "ipython",
    "version": 3
   },
   "file_extension": ".py",
   "mimetype": "text/x-python",
   "name": "python",
   "nbconvert_exporter": "python",
   "pygments_lexer": "ipython3",
   "version": "undefined.undefined.undefined"
  }
 },
 "nbformat": 4,
 "nbformat_minor": 2
}
