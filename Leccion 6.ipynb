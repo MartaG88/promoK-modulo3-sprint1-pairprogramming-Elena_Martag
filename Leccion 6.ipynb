{
 "cells": [
  {
   "cell_type": "markdown",
   "metadata": {},
   "source": [
    "**Pair Nulos**\n",
    "\n",
    "Trabajamos con world_data_full_apply.csv\n",
    "\n",
    "El objetivo del ejercicio es identificar las columnas que contienen valores nulos y\n",
    "aplicar un proceso de imputación para manejarlos de manera adecuada.\n",
    "Instrucciones:\n",
    "1. Identificación de Valores Nulos: Identifica todas las columnas que contengan\n",
    "valores nulos en el DataFrame."
   ]
  },
  {
   "cell_type": "markdown",
   "metadata": {},
   "source": [
    "2. Selección de Método de Imputación: Discute en tu compañera cuál sería la\n",
    "mejor estrategia para manejar los valores nulos en cada una de las columnas\n",
    "identificadas en el paso anterior."
   ]
  },
  {
   "cell_type": "markdown",
   "metadata": {},
   "source": [
    "3. Imputación de Valores Nulos: Implementa el método de imputación\n",
    "seleccionado en el paso 2 para llenar los valores nulos en las columnas."
   ]
  },
  {
   "cell_type": "markdown",
   "metadata": {},
   "source": [
    "4. Informe: Añade al final de un jupyter una explicación breve que describa las\n",
    "columnas que tenían valores nulos, cómo decidiste imputarlos y cualquier\n",
    "observación adicional que consideres importante sobre el proceso de limpieza\n",
    "de datos."
   ]
  },
  {
   "cell_type": "markdown",
   "metadata": {},
   "source": [
    "Nota: Puedes utilizar cualquier método o estrategia de imputación que consideres\n",
    "adecuado para los datos y discutir las ventajas y desventajas de tu elección en el\n",
    "informe."
   ]
  }
 ],
 "metadata": {
  "kernelspec": {
   "display_name": "Python 3",
   "language": "python",
   "name": "python3"
  },
  "language_info": {
   "name": "python",
   "version": "3.12.4"
  }
 },
 "nbformat": 4,
 "nbformat_minor": 2
}
