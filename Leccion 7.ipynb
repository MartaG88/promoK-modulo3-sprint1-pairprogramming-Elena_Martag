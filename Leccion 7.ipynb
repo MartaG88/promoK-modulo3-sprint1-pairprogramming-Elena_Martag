{
 "cells": [
  {
   "cell_type": "markdown",
   "metadata": {},
   "source": [
    "**Pair Visualización**\n",
    "\n",
    "Trabajamos con world_data_full_apply_nulos.csv"
   ]
  },
  {
   "cell_type": "markdown",
   "metadata": {},
   "source": [
    "**Ejercicios visualización**\n",
    "\n",
    "A lo largo de este ejercicio plantearemos una serie de preguntas que tendrás que\n",
    "contestar usando la visualización (podréis usar tanto Seaborn como Matplotlib)."
   ]
  },
  {
   "cell_type": "markdown",
   "metadata": {},
   "source": [
    "Requisitos que deben cumplir las gráficas (en caso de usar alguna de ellas):\n",
    "• Todas deben llevar título.\n",
    "• Los nombres de los ejes deben estar en castellano.\n",
    "• En los scatterplot los puntos deben tener un tamaño de 2.\n",
    "• En los scatterplot los puntos deben tener un color diferente al azul.\n",
    "• En los barplot las barras siempre tienen que estar ordenadas de mayor a menor.\n",
    "• En los barplot y countplot las barras tienen que tener un color diferente a losque vienen por defecto.\n",
    "• En los pieplot siempre tenemos que añadir la etiqueta de a que % correspondecada quesito."
   ]
  },
  {
   "cell_type": "markdown",
   "metadata": {},
   "source": [
    "1. ¿Cómo se distribuye la tasa de natalidad en el conjunto de datos? ¿Hay algún\n",
    "patrón evidente?"
   ]
  },
  {
   "cell_type": "markdown",
   "metadata": {},
   "source": [
    "2. ¿Existe una relación aparente entre la tasa de mortalidad infantil y la esperanza\n",
    "de vida? Proporciona una breve descripción de los patrones que observes."
   ]
  },
  {
   "cell_type": "markdown",
   "metadata": {},
   "source": [
    "3. ¿Cuál es el continente con la mayor cantidad de países en el conjunto de datos?\n",
    "Proporciona el porcentaje de países en ese continente."
   ]
  },
  {
   "cell_type": "markdown",
   "metadata": {},
   "source": [
    "4. ¿Cuál es la mediana de la esperanza de vida en Europa? Proporciona un rango\n",
    "intercuartil aproximado y verifica si existen valores atípicos."
   ]
  },
  {
   "cell_type": "markdown",
   "metadata": {},
   "source": [
    "5. ¿Existen relaciones visibles entre la tasa de natalidad y las siguientes variables:\n",
    "tasa de mortalidad infantil, esperanza de vida, densidad de población y\n",
    "población urbana? Usa un subplot. Describe cualquier patrón que encuentres."
   ]
  },
  {
   "cell_type": "markdown",
   "metadata": {},
   "source": [
    "6. ¿Cuáles son los 10 países con la mayor área forestal?"
   ]
  }
 ],
 "metadata": {
  "kernelspec": {
   "display_name": "Python 3",
   "language": "python",
   "name": "python3"
  },
  "language_info": {
   "name": "python",
   "version": "3.12.4"
  }
 },
 "nbformat": 4,
 "nbformat_minor": 2
}
